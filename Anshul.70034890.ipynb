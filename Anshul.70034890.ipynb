{
 "cells": [
  {
   "cell_type": "markdown",
   "id": "4b95fffe",
   "metadata": {},
   "source": [
    "# 700734890 Anshul Reddy Anandula\n",
    "\n",
    "# Question1"
   ]
  },
  {
   "cell_type": "code",
   "execution_count": 328,
   "id": "3142b447",
   "metadata": {},
   "outputs": [
    {
     "name": "stdout",
     "output_type": "stream",
     "text": [
      "[19, 22, 19, 24, 20, 25, 26, 24, 25, 24]\n"
     ]
    }
   ],
   "source": [
    "ages = [19, 22, 19, 24, 20, 25, 26, 24, 25, 24] #printing ages from the list\n",
    "print (ages)"
   ]
  },
  {
   "cell_type": "code",
   "execution_count": 329,
   "id": "54abbc51",
   "metadata": {},
   "outputs": [
    {
     "name": "stdout",
     "output_type": "stream",
     "text": [
      "sorted ages= [19, 19, 20, 22, 24, 24, 24, 25, 25, 26]\n",
      "min age= 19\n",
      "max age= 26\n",
      "median of ages= 24.0\n",
      "average of ages= 22.8\n"
     ]
    }
   ],
   "source": [
    "ages.sort()\n",
    "print(\"sorted ages=\",ages) #printing the sorted ages\n",
    "\n",
    "minimum=min(ages)\n",
    "print(\"min age=\",minimum) #printing the minimum age\n",
    "\n",
    "X = len(ages)\n",
    "maximum= ages[a-1]\n",
    "print(\"max age=\",ages[a-1]) #printing the maximum age\n",
    "import statistics\n",
    "median= statistics.median(ages)\n",
    "print(\"median of ages=\",median) #printing the median of ages\n",
    "\n",
    "mean= statistics.mean(ages)\n",
    "print(\"average of ages=\",mean) #printing average of ages\n",
    "\n",
    "\n",
    "\n",
    "\n"
   ]
  },
  {
   "cell_type": "code",
   "execution_count": 308,
   "id": "9a427987",
   "metadata": {},
   "outputs": [
    {
     "name": "stdout",
     "output_type": "stream",
     "text": [
      "19 20 21 22 23 24 25 "
     ]
    }
   ],
   "source": [
    "import numpy as np #importing numpy library\n",
    "for ages in np.arange(19,26):\n",
    "    print(ages, end=' ') #printing the range of ages\n",
    "\n"
   ]
  },
  {
   "cell_type": "markdown",
   "id": "30dc258b",
   "metadata": {},
   "source": [
    "# Question2"
   ]
  },
  {
   "cell_type": "code",
   "execution_count": 327,
   "id": "d5d8b25f",
   "metadata": {
    "scrolled": false
   },
   "outputs": [
    {
     "name": "stdout",
     "output_type": "stream",
     "text": [
      "{'Dog_name': None, 'Dog_color': None, 'Dog_Bread': None, 'Legs': None, 'Age': None}\n",
      "{'first_name': 'Anshul', 'last_name': 'Reddy', 'Gender': 'Male', 'age': 22, 'Marital_status': False, 'skills': ['JavaScript', 'Html', 'Python'], 'country': 'USA', 'city': ['Overland park'], 'address': {'street': 'Craig street', 'zipcode': '66213'}}\n",
      "Length of student dictionary = 9\n",
      "Value of skills= ['JavaScript', 'Html', 'Python']\n",
      "['JavaScript', 'Html', 'Python']\n",
      "{'first_name': 'Anshul', 'last_name': 'Reddy', 'Gender': 'Male', 'age': 22, 'Marital_status': False, 'skills': ['JavaScript', 'Html', 'Python', 'Angularjs', 'Hadoop'], 'country': 'USA', 'city': ['Overland park'], 'address': {'street': 'Craig street', 'zipcode': '66213'}}\n",
      "dict_keys(['first_name', 'last_name', 'Gender', 'age', 'Marital_status', 'skills', 'country', 'city', 'address'])\n",
      "dict_values(['Anshul', 'Reddy', 'Male', 22, False, ['JavaScript', 'Html', 'Python', 'Angularjs', 'Hadoop'], 'USA', ['Overland park'], {'street': 'Craig street', 'zipcode': '66213'}])\n"
     ]
    }
   ],
   "source": [
    "\n",
    "Dog = {} #creating empty dog dictionary \n",
    "Dog = {\n",
    "    'Dog_name':None,\n",
    "    'Dog_color':None,\n",
    "    'Dog_Bread':None,\n",
    "    'Legs':None,\n",
    "    'Age':None,\n",
    "    }\n",
    "print(Dog)\n",
    "Student={}  #creating student dictionary  with keys and values\n",
    "Student = {\n",
    "    'first_name':'Anshul',\n",
    "    'last_name':'Reddy',\n",
    "    'Gender':'Male',\n",
    "    'age':22,\n",
    "    'Marital_status':False,\n",
    "    'skills':['JavaScript', 'Html', 'Python'],\n",
    "    'country':'USA',\n",
    "    'city':['Overland park'],\n",
    "    'address':{\n",
    "        'street':'Craig street',\n",
    "        'zipcode':'66213'\n",
    "    }\n",
    "    }\n",
    "print(Student) #printing student dictionary \n",
    "print('Length of student dictionary =',len(Student)) #printing the length of dictionary\n",
    "print('Value of skills=',Student['skills']) #printing values of skills\n",
    "print(Student.get('skills')) #geting the values of skills\n",
    "Student['skills'].append(\"Angularjs\") #adding values to skills\n",
    "Student['skills'].append(\"Hadoop\")\n",
    "print(Student)\n",
    "print(Student.keys()) #printing keys of student list\n",
    "print(Student.values()) #printing the values of student list"
   ]
  },
  {
   "cell_type": "markdown",
   "id": "7129c518",
   "metadata": {},
   "source": [
    "# Question3"
   ]
  },
  {
   "cell_type": "code",
   "execution_count": 309,
   "id": "f52f78a9",
   "metadata": {},
   "outputs": [
    {
     "name": "stdout",
     "output_type": "stream",
     "text": [
      "('ram', 'tom', 'cody', 'jack', 'jane', 'jess', 'lilly', 'ria')\n"
     ]
    },
    {
     "data": {
      "text/plain": [
       "8"
      ]
     },
     "execution_count": 309,
     "metadata": {},
     "output_type": "execute_result"
    }
   ],
   "source": [
    "Brothers = ('ram', 'tom','cody','jack') #creating brother and sister tuples\n",
    "Sisters = ('jane','jess','lilly','ria')\n",
    "Siblings = Brothers + Sisters #joining brothe and sister tuples to siblings\n",
    "print(Siblings) #printing sibling tuples\n",
    "len(Siblings) #length of siblings\n"
   ]
  },
  {
   "cell_type": "code",
   "execution_count": 169,
   "id": "313d76f4",
   "metadata": {},
   "outputs": [
    {
     "name": "stdout",
     "output_type": "stream",
     "text": [
      "('ram', 'tom', 'cody', 'jack', 'jane', 'jess', 'lilly', 'ria', 'diana', 'clark')\n"
     ]
    }
   ],
   "source": [
    "Family_members = Siblings + ('diana','clark') #joining mother and father names to siblings and printing it\n",
    "print(Family_members)"
   ]
  },
  {
   "cell_type": "markdown",
   "id": "7df49574",
   "metadata": {},
   "source": [
    "# Question4"
   ]
  },
  {
   "cell_type": "code",
   "execution_count": 312,
   "id": "39bc6180",
   "metadata": {},
   "outputs": [
    {
     "data": {
      "text/plain": [
       "7"
      ]
     },
     "execution_count": 312,
     "metadata": {},
     "output_type": "execute_result"
    }
   ],
   "source": [
    "it_companies = {'Facebook', 'Google', 'Microsoft', 'Apple', 'IBM', 'Oracle', 'Amazon'} \n",
    "A = {19, 22, 24, 20, 25, 26}\n",
    "B = {19, 22, 20, 25, 26, 24, 28, 27}\n",
    "age = [22, 19, 24, 25, 26, 24, 25, 24]\n",
    "\n",
    "len(it_companies) #length of it_companies"
   ]
  },
  {
   "cell_type": "code",
   "execution_count": 171,
   "id": "b01cdca1",
   "metadata": {},
   "outputs": [
    {
     "name": "stdout",
     "output_type": "stream",
     "text": [
      "{'IBM', 'Twitter', 'Oracle', 'Apple', 'Microsoft', 'Google', 'Amazon', 'Facebook'}\n"
     ]
    }
   ],
   "source": [
    "it_companies.add('Twitter') #adding twitter to the it_companies set and printing it\n",
    "print(it_companies)"
   ]
  },
  {
   "cell_type": "code",
   "execution_count": 172,
   "id": "bdc5fd74",
   "metadata": {},
   "outputs": [
    {
     "name": "stdout",
     "output_type": "stream",
     "text": [
      "{'HCL', 'Google', 'Amazon', 'Facebook', 'Microsoft', 'Twitter', 'Infosys', 'Wipro', 'Oracle', 'Apple', 'IBM'}\n"
     ]
    }
   ],
   "source": [
    "it_companies.update(['Infosys','Wipro','HCL']) #inserting it_companies set with multiple it companies and printing it\n",
    "print(it_companies)"
   ]
  },
  {
   "cell_type": "code",
   "execution_count": 173,
   "id": "f151b7c0",
   "metadata": {},
   "outputs": [
    {
     "name": "stdout",
     "output_type": "stream",
     "text": [
      "{'Google', 'Amazon', 'Facebook', 'Microsoft', 'Twitter', 'Infosys', 'Wipro', 'Oracle', 'Apple', 'IBM'}\n"
     ]
    }
   ],
   "source": [
    "it_companies.remove('HCL') #removing one company from the set\n",
    "print(it_companies)"
   ]
  },
  {
   "cell_type": "code",
   "execution_count": 174,
   "id": "2c1a1113",
   "metadata": {},
   "outputs": [
    {
     "name": "stdout",
     "output_type": "stream",
     "text": [
      "{19, 20, 22, 24, 25, 26, 27, 28}\n"
     ]
    }
   ],
   "source": [
    "C =A.union(B) #joining sets A and B\n",
    "print(C)"
   ]
  },
  {
   "cell_type": "code",
   "execution_count": 175,
   "id": "be532510",
   "metadata": {},
   "outputs": [
    {
     "name": "stdout",
     "output_type": "stream",
     "text": [
      "{19, 20, 22, 24, 25, 26}\n"
     ]
    }
   ],
   "source": [
    "C =A.intersection(B) #intersecting sets A and B\n",
    "print(C)"
   ]
  },
  {
   "cell_type": "code",
   "execution_count": 176,
   "id": "aa06f197",
   "metadata": {},
   "outputs": [
    {
     "name": "stdout",
     "output_type": "stream",
     "text": [
      "True\n"
     ]
    }
   ],
   "source": [
    "print(A.issubset(B)) #Finding A is subset to B or not"
   ]
  },
  {
   "cell_type": "code",
   "execution_count": 177,
   "id": "893d7a33",
   "metadata": {},
   "outputs": [
    {
     "name": "stdout",
     "output_type": "stream",
     "text": [
      "False\n"
     ]
    }
   ],
   "source": [
    "print(A.isdisjoint(B)) #Finding A and B are disjoint sets or not"
   ]
  },
  {
   "cell_type": "code",
   "execution_count": 322,
   "id": "e4cf67ec",
   "metadata": {},
   "outputs": [
    {
     "name": "stdout",
     "output_type": "stream",
     "text": [
      "{19, 20, 22, 24, 25, 26, 27, 28}\n"
     ]
    }
   ],
   "source": [
    "D = A.union(B) #joining A and B\n",
    "print(D)"
   ]
  },
  {
   "cell_type": "code",
   "execution_count": 323,
   "id": "ab820336",
   "metadata": {},
   "outputs": [
    {
     "name": "stdout",
     "output_type": "stream",
     "text": [
      "{19, 20, 22, 24, 25, 26, 27, 28}\n"
     ]
    }
   ],
   "source": [
    "E = B.union(A) #joing B and A\n",
    "print(E)"
   ]
  },
  {
   "cell_type": "code",
   "execution_count": 325,
   "id": "0b4a3b84",
   "metadata": {},
   "outputs": [
    {
     "name": "stdout",
     "output_type": "stream",
     "text": [
      "{19, 20, 22, 24, 25, 26, 27, 28}\n"
     ]
    }
   ],
   "source": [
    "F = D.union(E) #Joining A with B and B with A\n",
    "print(F)"
   ]
  },
  {
   "cell_type": "code",
   "execution_count": 320,
   "id": "58ab724a",
   "metadata": {},
   "outputs": [
    {
     "name": "stdout",
     "output_type": "stream",
     "text": [
      "{27, 28}\n"
     ]
    }
   ],
   "source": [
    "print(A.symmetric_difference(B)) #printingsymmetric_difference"
   ]
  },
  {
   "cell_type": "code",
   "execution_count": 181,
   "id": "100c936b",
   "metadata": {},
   "outputs": [],
   "source": [
    "del it_companies #deleting all the sets\n",
    "del A\n",
    "del B\n"
   ]
  },
  {
   "cell_type": "code",
   "execution_count": 182,
   "id": "d6018614",
   "metadata": {},
   "outputs": [
    {
     "name": "stdout",
     "output_type": "stream",
     "text": [
      "{19, 22, 24, 25, 26}\n"
     ]
    },
    {
     "data": {
      "text/plain": [
       "8"
      ]
     },
     "execution_count": 182,
     "metadata": {},
     "output_type": "execute_result"
    }
   ],
   "source": [
    "age = [22, 19, 24, 25, 26, 24, 25, 24] #Converting the ages to a set and compare the length of the list and the set.\n",
    "ages_st = set(age)\n",
    "print(ages_st)\n",
    "len(age)"
   ]
  },
  {
   "cell_type": "code",
   "execution_count": 183,
   "id": "4992136d",
   "metadata": {},
   "outputs": [
    {
     "data": {
      "text/plain": [
       "5"
      ]
     },
     "execution_count": 183,
     "metadata": {},
     "output_type": "execute_result"
    }
   ],
   "source": [
    "len(ages_st) #length of ages set"
   ]
  },
  {
   "cell_type": "markdown",
   "id": "896eab05",
   "metadata": {},
   "source": [
    "# Question5"
   ]
  },
  {
   "cell_type": "code",
   "execution_count": 331,
   "id": "5588a8eb",
   "metadata": {},
   "outputs": [
    {
     "name": "stdout",
     "output_type": "stream",
     "text": [
      "Area : 2826.9\n",
      "Circumference : 188.46\n",
      "Enter your desired radius here: 6\n",
      "Radius =  6 \n",
      "Area : 113.076\n"
     ]
    }
   ],
   "source": [
    "radius = 30\n",
    "\n",
    "#Area of a circle \n",
    "area_of_circle = 3.141 * radius * radius\n",
    "print(\"Area :\",area_of_circle)\n",
    "\n",
    "#Circumference of a circle\n",
    "circum_of_circle = 2 * 3.141 * radius\n",
    "print(\"Circumference :\",circum_of_circle)\n",
    "#Calculating area of circle taking users input\n",
    "radius_input = int(input(\"Enter your desired radius here: \"))\n",
    "Area = 3.141 * radius_input * radius_input\n",
    "\n",
    "print(\"Radius = \",radius_input,\"\\nArea :\",Area)"
   ]
  },
  {
   "cell_type": "markdown",
   "id": "399cf619",
   "metadata": {},
   "source": [
    "# Question6"
   ]
  },
  {
   "cell_type": "code",
   "execution_count": 189,
   "id": "8005efef",
   "metadata": {},
   "outputs": [
    {
     "name": "stdout",
     "output_type": "stream",
     "text": [
      "['I', 'am', 'a', 'teacher', 'and', 'I', 'love', 'to', 'inspire', 'and', 'teach', 'people']\n",
      "8\n"
     ]
    }
   ],
   "source": [
    "#finding unique words in the sentence using split method\n",
    "sentence = 'I am a teacher and I love to inspire and teach people'\n",
    "L = []\n",
    " \n",
    "for i in sentence.split():\n",
    "       L.append(i)\n",
    "\n",
    "print(L)\n",
    "\n",
    "Z = 0\n",
    "for i in L:\n",
    "      if L.count(i) == 1:\n",
    "            Z = Z+1\n",
    "\n",
    "            \n",
    "print(c)\n",
    "            "
   ]
  },
  {
   "cell_type": "markdown",
   "id": "647ed534",
   "metadata": {},
   "source": [
    "# Question7"
   ]
  },
  {
   "cell_type": "code",
   "execution_count": 190,
   "id": "a36a3260",
   "metadata": {},
   "outputs": [
    {
     "name": "stdout",
     "output_type": "stream",
     "text": [
      "Name\tAge\tCountry\tCity\n",
      "Asabeneh\t250\tFinland\tHelsinki\n"
     ]
    }
   ],
   "source": [
    "print(\"Name\\tAge\\tCountry\\tCity\\nAsabeneh\\t250\\tFinland\\tHelsinki\") #Using tab escape sequence"
   ]
  },
  {
   "cell_type": "markdown",
   "id": "29c42572",
   "metadata": {},
   "source": [
    "# Question8"
   ]
  },
  {
   "cell_type": "code",
   "execution_count": 194,
   "id": "3b7ec10b",
   "metadata": {},
   "outputs": [
    {
     "name": "stdout",
     "output_type": "stream",
     "text": [
      "The area of a circle with radius 10 is 314 meters square.\n"
     ]
    }
   ],
   "source": [
    "radius = 10 #using string formatting method \n",
    "area = 3.14 * radius ** 2\n",
    "\n",
    "print('The area of a circle with radius',radius,'is %.0f' %(area),'meters square.')"
   ]
  },
  {
   "cell_type": "markdown",
   "id": "da82a2f8",
   "metadata": {},
   "source": [
    "# Question9"
   ]
  },
  {
   "cell_type": "code",
   "execution_count": 332,
   "id": "753c9eaf",
   "metadata": {},
   "outputs": [
    {
     "name": "stdout",
     "output_type": "stream",
     "text": [
      "Enter the length:4\n",
      "Enter the value:1\n",
      "Enter the value:2\n",
      "Enter the value:3\n",
      "Enter the value:5\n",
      "[0.453592, 0.907184, 1.360776, 2.26796]\n"
     ]
    }
   ],
   "source": [
    "max = eval(input('Enter the length:'))# To take lenghts input\n",
    "input1 = []\n",
    "input2 = []\n",
    "for i in range (0,max,1) :\n",
    "    x = eval(input('Enter the value:')) #taking input values\n",
    "    input1.append(x)\n",
    "#reads weights (lbs.) of N students into a list and convert these weights to kilograms in a separate list using Loop\n",
    "for i in range (0,max,1) : \n",
    "      Y = input1[i] * 0.453592\n",
    "      input2.append(Y)\n",
    "print(input2)\n",
    "\n"
   ]
  },
  {
   "cell_type": "markdown",
   "id": "c33e4570",
   "metadata": {},
   "source": [
    "# Question10"
   ]
  },
  {
   "cell_type": "code",
   "execution_count": 330,
   "id": "db6a8c8b",
   "metadata": {},
   "outputs": [
    {
     "ename": "FileNotFoundError",
     "evalue": "[Errno 2] No such file or directory: 'dataset.csv'",
     "output_type": "error",
     "traceback": [
      "\u001b[0;31m---------------------------------------------------------------------------\u001b[0m",
      "\u001b[0;31mFileNotFoundError\u001b[0m                         Traceback (most recent call last)",
      "Input \u001b[0;32mIn [330]\u001b[0m, in \u001b[0;36m<cell line: 4>\u001b[0;34m()\u001b[0m\n\u001b[1;32m      2\u001b[0m \u001b[38;5;28;01mimport\u001b[39;00m \u001b[38;5;21;01mmatplotlib\u001b[39;00m\u001b[38;5;21;01m.\u001b[39;00m\u001b[38;5;21;01mpyplot\u001b[39;00m \u001b[38;5;28;01mas\u001b[39;00m \u001b[38;5;21;01mplt\u001b[39;00m  \n\u001b[1;32m      3\u001b[0m \u001b[38;5;28;01mimport\u001b[39;00m \u001b[38;5;21;01mpandas\u001b[39;00m \u001b[38;5;28;01mas\u001b[39;00m \u001b[38;5;21;01mpd\u001b[39;00m  \n\u001b[0;32m----> 4\u001b[0m dataframe\u001b[38;5;241m=\u001b[39m\u001b[43mpd\u001b[49m\u001b[38;5;241;43m.\u001b[39;49m\u001b[43mread_csv\u001b[49m\u001b[43m(\u001b[49m\u001b[38;5;124;43m\"\u001b[39;49m\u001b[38;5;124;43mdataset.csv\u001b[39;49m\u001b[38;5;124;43m\"\u001b[39;49m\u001b[43m)\u001b[49m\u001b[38;5;66;03m#reading the dataset\u001b[39;00m\n\u001b[1;32m      5\u001b[0m x\u001b[38;5;241m=\u001b[39m dataframe[\u001b[38;5;124m'\u001b[39m\u001b[38;5;124mFeature\u001b[39m\u001b[38;5;124m'\u001b[39m]\u001b[38;5;241m.\u001b[39mvalues  \n\u001b[1;32m      6\u001b[0m y\u001b[38;5;241m=\u001b[39m dataframe[\u001b[38;5;124m'\u001b[39m\u001b[38;5;124mClass\u001b[39m\u001b[38;5;124m'\u001b[39m]\u001b[38;5;241m.\u001b[39mvalues \n",
      "File \u001b[0;32m~/opt/anaconda3/lib/python3.9/site-packages/pandas/util/_decorators.py:311\u001b[0m, in \u001b[0;36mdeprecate_nonkeyword_arguments.<locals>.decorate.<locals>.wrapper\u001b[0;34m(*args, **kwargs)\u001b[0m\n\u001b[1;32m    305\u001b[0m \u001b[38;5;28;01mif\u001b[39;00m \u001b[38;5;28mlen\u001b[39m(args) \u001b[38;5;241m>\u001b[39m num_allow_args:\n\u001b[1;32m    306\u001b[0m     warnings\u001b[38;5;241m.\u001b[39mwarn(\n\u001b[1;32m    307\u001b[0m         msg\u001b[38;5;241m.\u001b[39mformat(arguments\u001b[38;5;241m=\u001b[39marguments),\n\u001b[1;32m    308\u001b[0m         \u001b[38;5;167;01mFutureWarning\u001b[39;00m,\n\u001b[1;32m    309\u001b[0m         stacklevel\u001b[38;5;241m=\u001b[39mstacklevel,\n\u001b[1;32m    310\u001b[0m     )\n\u001b[0;32m--> 311\u001b[0m \u001b[38;5;28;01mreturn\u001b[39;00m \u001b[43mfunc\u001b[49m\u001b[43m(\u001b[49m\u001b[38;5;241;43m*\u001b[39;49m\u001b[43margs\u001b[49m\u001b[43m,\u001b[49m\u001b[43m \u001b[49m\u001b[38;5;241;43m*\u001b[39;49m\u001b[38;5;241;43m*\u001b[39;49m\u001b[43mkwargs\u001b[49m\u001b[43m)\u001b[49m\n",
      "File \u001b[0;32m~/opt/anaconda3/lib/python3.9/site-packages/pandas/io/parsers/readers.py:680\u001b[0m, in \u001b[0;36mread_csv\u001b[0;34m(filepath_or_buffer, sep, delimiter, header, names, index_col, usecols, squeeze, prefix, mangle_dupe_cols, dtype, engine, converters, true_values, false_values, skipinitialspace, skiprows, skipfooter, nrows, na_values, keep_default_na, na_filter, verbose, skip_blank_lines, parse_dates, infer_datetime_format, keep_date_col, date_parser, dayfirst, cache_dates, iterator, chunksize, compression, thousands, decimal, lineterminator, quotechar, quoting, doublequote, escapechar, comment, encoding, encoding_errors, dialect, error_bad_lines, warn_bad_lines, on_bad_lines, delim_whitespace, low_memory, memory_map, float_precision, storage_options)\u001b[0m\n\u001b[1;32m    665\u001b[0m kwds_defaults \u001b[38;5;241m=\u001b[39m _refine_defaults_read(\n\u001b[1;32m    666\u001b[0m     dialect,\n\u001b[1;32m    667\u001b[0m     delimiter,\n\u001b[0;32m   (...)\u001b[0m\n\u001b[1;32m    676\u001b[0m     defaults\u001b[38;5;241m=\u001b[39m{\u001b[38;5;124m\"\u001b[39m\u001b[38;5;124mdelimiter\u001b[39m\u001b[38;5;124m\"\u001b[39m: \u001b[38;5;124m\"\u001b[39m\u001b[38;5;124m,\u001b[39m\u001b[38;5;124m\"\u001b[39m},\n\u001b[1;32m    677\u001b[0m )\n\u001b[1;32m    678\u001b[0m kwds\u001b[38;5;241m.\u001b[39mupdate(kwds_defaults)\n\u001b[0;32m--> 680\u001b[0m \u001b[38;5;28;01mreturn\u001b[39;00m \u001b[43m_read\u001b[49m\u001b[43m(\u001b[49m\u001b[43mfilepath_or_buffer\u001b[49m\u001b[43m,\u001b[49m\u001b[43m \u001b[49m\u001b[43mkwds\u001b[49m\u001b[43m)\u001b[49m\n",
      "File \u001b[0;32m~/opt/anaconda3/lib/python3.9/site-packages/pandas/io/parsers/readers.py:575\u001b[0m, in \u001b[0;36m_read\u001b[0;34m(filepath_or_buffer, kwds)\u001b[0m\n\u001b[1;32m    572\u001b[0m _validate_names(kwds\u001b[38;5;241m.\u001b[39mget(\u001b[38;5;124m\"\u001b[39m\u001b[38;5;124mnames\u001b[39m\u001b[38;5;124m\"\u001b[39m, \u001b[38;5;28;01mNone\u001b[39;00m))\n\u001b[1;32m    574\u001b[0m \u001b[38;5;66;03m# Create the parser.\u001b[39;00m\n\u001b[0;32m--> 575\u001b[0m parser \u001b[38;5;241m=\u001b[39m \u001b[43mTextFileReader\u001b[49m\u001b[43m(\u001b[49m\u001b[43mfilepath_or_buffer\u001b[49m\u001b[43m,\u001b[49m\u001b[43m \u001b[49m\u001b[38;5;241;43m*\u001b[39;49m\u001b[38;5;241;43m*\u001b[39;49m\u001b[43mkwds\u001b[49m\u001b[43m)\u001b[49m\n\u001b[1;32m    577\u001b[0m \u001b[38;5;28;01mif\u001b[39;00m chunksize \u001b[38;5;129;01mor\u001b[39;00m iterator:\n\u001b[1;32m    578\u001b[0m     \u001b[38;5;28;01mreturn\u001b[39;00m parser\n",
      "File \u001b[0;32m~/opt/anaconda3/lib/python3.9/site-packages/pandas/io/parsers/readers.py:933\u001b[0m, in \u001b[0;36mTextFileReader.__init__\u001b[0;34m(self, f, engine, **kwds)\u001b[0m\n\u001b[1;32m    930\u001b[0m     \u001b[38;5;28mself\u001b[39m\u001b[38;5;241m.\u001b[39moptions[\u001b[38;5;124m\"\u001b[39m\u001b[38;5;124mhas_index_names\u001b[39m\u001b[38;5;124m\"\u001b[39m] \u001b[38;5;241m=\u001b[39m kwds[\u001b[38;5;124m\"\u001b[39m\u001b[38;5;124mhas_index_names\u001b[39m\u001b[38;5;124m\"\u001b[39m]\n\u001b[1;32m    932\u001b[0m \u001b[38;5;28mself\u001b[39m\u001b[38;5;241m.\u001b[39mhandles: IOHandles \u001b[38;5;241m|\u001b[39m \u001b[38;5;28;01mNone\u001b[39;00m \u001b[38;5;241m=\u001b[39m \u001b[38;5;28;01mNone\u001b[39;00m\n\u001b[0;32m--> 933\u001b[0m \u001b[38;5;28mself\u001b[39m\u001b[38;5;241m.\u001b[39m_engine \u001b[38;5;241m=\u001b[39m \u001b[38;5;28;43mself\u001b[39;49m\u001b[38;5;241;43m.\u001b[39;49m\u001b[43m_make_engine\u001b[49m\u001b[43m(\u001b[49m\u001b[43mf\u001b[49m\u001b[43m,\u001b[49m\u001b[43m \u001b[49m\u001b[38;5;28;43mself\u001b[39;49m\u001b[38;5;241;43m.\u001b[39;49m\u001b[43mengine\u001b[49m\u001b[43m)\u001b[49m\n",
      "File \u001b[0;32m~/opt/anaconda3/lib/python3.9/site-packages/pandas/io/parsers/readers.py:1217\u001b[0m, in \u001b[0;36mTextFileReader._make_engine\u001b[0;34m(self, f, engine)\u001b[0m\n\u001b[1;32m   1213\u001b[0m     mode \u001b[38;5;241m=\u001b[39m \u001b[38;5;124m\"\u001b[39m\u001b[38;5;124mrb\u001b[39m\u001b[38;5;124m\"\u001b[39m\n\u001b[1;32m   1214\u001b[0m \u001b[38;5;66;03m# error: No overload variant of \"get_handle\" matches argument types\u001b[39;00m\n\u001b[1;32m   1215\u001b[0m \u001b[38;5;66;03m# \"Union[str, PathLike[str], ReadCsvBuffer[bytes], ReadCsvBuffer[str]]\"\u001b[39;00m\n\u001b[1;32m   1216\u001b[0m \u001b[38;5;66;03m# , \"str\", \"bool\", \"Any\", \"Any\", \"Any\", \"Any\", \"Any\"\u001b[39;00m\n\u001b[0;32m-> 1217\u001b[0m \u001b[38;5;28mself\u001b[39m\u001b[38;5;241m.\u001b[39mhandles \u001b[38;5;241m=\u001b[39m \u001b[43mget_handle\u001b[49m\u001b[43m(\u001b[49m\u001b[43m  \u001b[49m\u001b[38;5;66;43;03m# type: ignore[call-overload]\u001b[39;49;00m\n\u001b[1;32m   1218\u001b[0m \u001b[43m    \u001b[49m\u001b[43mf\u001b[49m\u001b[43m,\u001b[49m\n\u001b[1;32m   1219\u001b[0m \u001b[43m    \u001b[49m\u001b[43mmode\u001b[49m\u001b[43m,\u001b[49m\n\u001b[1;32m   1220\u001b[0m \u001b[43m    \u001b[49m\u001b[43mencoding\u001b[49m\u001b[38;5;241;43m=\u001b[39;49m\u001b[38;5;28;43mself\u001b[39;49m\u001b[38;5;241;43m.\u001b[39;49m\u001b[43moptions\u001b[49m\u001b[38;5;241;43m.\u001b[39;49m\u001b[43mget\u001b[49m\u001b[43m(\u001b[49m\u001b[38;5;124;43m\"\u001b[39;49m\u001b[38;5;124;43mencoding\u001b[39;49m\u001b[38;5;124;43m\"\u001b[39;49m\u001b[43m,\u001b[49m\u001b[43m \u001b[49m\u001b[38;5;28;43;01mNone\u001b[39;49;00m\u001b[43m)\u001b[49m\u001b[43m,\u001b[49m\n\u001b[1;32m   1221\u001b[0m \u001b[43m    \u001b[49m\u001b[43mcompression\u001b[49m\u001b[38;5;241;43m=\u001b[39;49m\u001b[38;5;28;43mself\u001b[39;49m\u001b[38;5;241;43m.\u001b[39;49m\u001b[43moptions\u001b[49m\u001b[38;5;241;43m.\u001b[39;49m\u001b[43mget\u001b[49m\u001b[43m(\u001b[49m\u001b[38;5;124;43m\"\u001b[39;49m\u001b[38;5;124;43mcompression\u001b[39;49m\u001b[38;5;124;43m\"\u001b[39;49m\u001b[43m,\u001b[49m\u001b[43m \u001b[49m\u001b[38;5;28;43;01mNone\u001b[39;49;00m\u001b[43m)\u001b[49m\u001b[43m,\u001b[49m\n\u001b[1;32m   1222\u001b[0m \u001b[43m    \u001b[49m\u001b[43mmemory_map\u001b[49m\u001b[38;5;241;43m=\u001b[39;49m\u001b[38;5;28;43mself\u001b[39;49m\u001b[38;5;241;43m.\u001b[39;49m\u001b[43moptions\u001b[49m\u001b[38;5;241;43m.\u001b[39;49m\u001b[43mget\u001b[49m\u001b[43m(\u001b[49m\u001b[38;5;124;43m\"\u001b[39;49m\u001b[38;5;124;43mmemory_map\u001b[39;49m\u001b[38;5;124;43m\"\u001b[39;49m\u001b[43m,\u001b[49m\u001b[43m \u001b[49m\u001b[38;5;28;43;01mFalse\u001b[39;49;00m\u001b[43m)\u001b[49m\u001b[43m,\u001b[49m\n\u001b[1;32m   1223\u001b[0m \u001b[43m    \u001b[49m\u001b[43mis_text\u001b[49m\u001b[38;5;241;43m=\u001b[39;49m\u001b[43mis_text\u001b[49m\u001b[43m,\u001b[49m\n\u001b[1;32m   1224\u001b[0m \u001b[43m    \u001b[49m\u001b[43merrors\u001b[49m\u001b[38;5;241;43m=\u001b[39;49m\u001b[38;5;28;43mself\u001b[39;49m\u001b[38;5;241;43m.\u001b[39;49m\u001b[43moptions\u001b[49m\u001b[38;5;241;43m.\u001b[39;49m\u001b[43mget\u001b[49m\u001b[43m(\u001b[49m\u001b[38;5;124;43m\"\u001b[39;49m\u001b[38;5;124;43mencoding_errors\u001b[39;49m\u001b[38;5;124;43m\"\u001b[39;49m\u001b[43m,\u001b[49m\u001b[43m \u001b[49m\u001b[38;5;124;43m\"\u001b[39;49m\u001b[38;5;124;43mstrict\u001b[39;49m\u001b[38;5;124;43m\"\u001b[39;49m\u001b[43m)\u001b[49m\u001b[43m,\u001b[49m\n\u001b[1;32m   1225\u001b[0m \u001b[43m    \u001b[49m\u001b[43mstorage_options\u001b[49m\u001b[38;5;241;43m=\u001b[39;49m\u001b[38;5;28;43mself\u001b[39;49m\u001b[38;5;241;43m.\u001b[39;49m\u001b[43moptions\u001b[49m\u001b[38;5;241;43m.\u001b[39;49m\u001b[43mget\u001b[49m\u001b[43m(\u001b[49m\u001b[38;5;124;43m\"\u001b[39;49m\u001b[38;5;124;43mstorage_options\u001b[39;49m\u001b[38;5;124;43m\"\u001b[39;49m\u001b[43m,\u001b[49m\u001b[43m \u001b[49m\u001b[38;5;28;43;01mNone\u001b[39;49;00m\u001b[43m)\u001b[49m\u001b[43m,\u001b[49m\n\u001b[1;32m   1226\u001b[0m \u001b[43m\u001b[49m\u001b[43m)\u001b[49m\n\u001b[1;32m   1227\u001b[0m \u001b[38;5;28;01massert\u001b[39;00m \u001b[38;5;28mself\u001b[39m\u001b[38;5;241m.\u001b[39mhandles \u001b[38;5;129;01mis\u001b[39;00m \u001b[38;5;129;01mnot\u001b[39;00m \u001b[38;5;28;01mNone\u001b[39;00m\n\u001b[1;32m   1228\u001b[0m f \u001b[38;5;241m=\u001b[39m \u001b[38;5;28mself\u001b[39m\u001b[38;5;241m.\u001b[39mhandles\u001b[38;5;241m.\u001b[39mhandle\n",
      "File \u001b[0;32m~/opt/anaconda3/lib/python3.9/site-packages/pandas/io/common.py:789\u001b[0m, in \u001b[0;36mget_handle\u001b[0;34m(path_or_buf, mode, encoding, compression, memory_map, is_text, errors, storage_options)\u001b[0m\n\u001b[1;32m    784\u001b[0m \u001b[38;5;28;01melif\u001b[39;00m \u001b[38;5;28misinstance\u001b[39m(handle, \u001b[38;5;28mstr\u001b[39m):\n\u001b[1;32m    785\u001b[0m     \u001b[38;5;66;03m# Check whether the filename is to be opened in binary mode.\u001b[39;00m\n\u001b[1;32m    786\u001b[0m     \u001b[38;5;66;03m# Binary mode does not support 'encoding' and 'newline'.\u001b[39;00m\n\u001b[1;32m    787\u001b[0m     \u001b[38;5;28;01mif\u001b[39;00m ioargs\u001b[38;5;241m.\u001b[39mencoding \u001b[38;5;129;01mand\u001b[39;00m \u001b[38;5;124m\"\u001b[39m\u001b[38;5;124mb\u001b[39m\u001b[38;5;124m\"\u001b[39m \u001b[38;5;129;01mnot\u001b[39;00m \u001b[38;5;129;01min\u001b[39;00m ioargs\u001b[38;5;241m.\u001b[39mmode:\n\u001b[1;32m    788\u001b[0m         \u001b[38;5;66;03m# Encoding\u001b[39;00m\n\u001b[0;32m--> 789\u001b[0m         handle \u001b[38;5;241m=\u001b[39m \u001b[38;5;28;43mopen\u001b[39;49m\u001b[43m(\u001b[49m\n\u001b[1;32m    790\u001b[0m \u001b[43m            \u001b[49m\u001b[43mhandle\u001b[49m\u001b[43m,\u001b[49m\n\u001b[1;32m    791\u001b[0m \u001b[43m            \u001b[49m\u001b[43mioargs\u001b[49m\u001b[38;5;241;43m.\u001b[39;49m\u001b[43mmode\u001b[49m\u001b[43m,\u001b[49m\n\u001b[1;32m    792\u001b[0m \u001b[43m            \u001b[49m\u001b[43mencoding\u001b[49m\u001b[38;5;241;43m=\u001b[39;49m\u001b[43mioargs\u001b[49m\u001b[38;5;241;43m.\u001b[39;49m\u001b[43mencoding\u001b[49m\u001b[43m,\u001b[49m\n\u001b[1;32m    793\u001b[0m \u001b[43m            \u001b[49m\u001b[43merrors\u001b[49m\u001b[38;5;241;43m=\u001b[39;49m\u001b[43merrors\u001b[49m\u001b[43m,\u001b[49m\n\u001b[1;32m    794\u001b[0m \u001b[43m            \u001b[49m\u001b[43mnewline\u001b[49m\u001b[38;5;241;43m=\u001b[39;49m\u001b[38;5;124;43m\"\u001b[39;49m\u001b[38;5;124;43m\"\u001b[39;49m\u001b[43m,\u001b[49m\n\u001b[1;32m    795\u001b[0m \u001b[43m        \u001b[49m\u001b[43m)\u001b[49m\n\u001b[1;32m    796\u001b[0m     \u001b[38;5;28;01melse\u001b[39;00m:\n\u001b[1;32m    797\u001b[0m         \u001b[38;5;66;03m# Binary mode\u001b[39;00m\n\u001b[1;32m    798\u001b[0m         handle \u001b[38;5;241m=\u001b[39m \u001b[38;5;28mopen\u001b[39m(handle, ioargs\u001b[38;5;241m.\u001b[39mmode)\n",
      "\u001b[0;31mFileNotFoundError\u001b[0m: [Errno 2] No such file or directory: 'dataset.csv'"
     ]
    }
   ],
   "source": [
    "import numpy as np  #importing important python libraries\n",
    "import matplotlib.pyplot as plt  \n",
    "import pandas as pd  \n",
    "dataframe=pd.read_csv(\"dataset.csv\")#reading the dataset\n",
    "x= dataframe['Feature'].values  \n",
    "y= dataframe['Class'].values \n",
    "#dividing data equally into training and testing data\n",
    "from sklearn.model_selection import train_test_split  \n",
    "features_tr, features_te, label_tr, label_te= train_test_split(x, y, random_state=0, train_size= 0.5 ) \n",
    "#reshaping the data feature and labes into 2D array\n",
    "features_tr = np.array(features_tr).reshape(-1,1)\n",
    "features_te = np.array(features_te).reshape(-1,1)\n",
    "#Normalizing data\n",
    "from sklearn.preprocessing import StandardScaler    \n",
    "normalization= StandardScaler()    \n",
    "features_tr= normalization.fit_transform(features_tr)    \n",
    "features_te= normalization.transform(features_te)  \n",
    "#fiting the training data into classifier model \n",
    "from sklearn.neighbors import KNeighborsClassifier  \n",
    "model= KNeighborsClassifier(n_neighbors=3 )  \n",
    "model.fit(features_tr, label_tr)\n",
    "#Predicting the test set result  \n",
    "predict_class= model.predict(features_te)  \n",
    "print(\"Predicted Test Samples Output:\",predict_class)\n",
    "\n",
    "#creating a confusion matrix\n",
    "from sklearn.metrics import confusion_matrix  \n",
    "model_evaluation= confusion_matrix(label_te, predict_class) \n",
    "print(\"Confusion matrix:\\n\",model_evaluation)\n",
    "#finding model accuracy\n",
    "count=sum(sum(model_evaluation))\n",
    "accuracy=(model_evaluation[0,0]+model_evaluation[1,1])/count\n",
    "print ('Accuracy =: ', accuracy)\n",
    "# finding model sensitivity\n",
    "sense = model_evaluation[0,0]/(model_evaluation[0,0]+model_evaluation[0,1])\n",
    "print('Sensitivity =: ', sense )\n",
    "#finding model specificity\n",
    "speci = model_evaluation[1,1]/(model_evaluation[1,0]+model_evaluation[1,1])\n",
    "print('Specificity =: ', speci)"
   ]
  },
  {
   "cell_type": "code",
   "execution_count": null,
   "id": "8cc4d1f7",
   "metadata": {},
   "outputs": [],
   "source": []
  }
 ],
 "metadata": {
  "kernelspec": {
   "display_name": "Python 3 (ipykernel)",
   "language": "python",
   "name": "python3"
  },
  "language_info": {
   "codemirror_mode": {
    "name": "ipython",
    "version": 3
   },
   "file_extension": ".py",
   "mimetype": "text/x-python",
   "name": "python",
   "nbconvert_exporter": "python",
   "pygments_lexer": "ipython3",
   "version": "3.9.12"
  }
 },
 "nbformat": 4,
 "nbformat_minor": 5
}
